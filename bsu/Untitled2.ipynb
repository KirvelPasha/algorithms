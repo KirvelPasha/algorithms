{
  "nbformat": 4,
  "nbformat_minor": 0,
  "metadata": {
    "colab": {
      "name": "Untitled2.ipynb",
      "provenance": []
    },
    "kernelspec": {
      "name": "python3",
      "display_name": "Python 3"
    }
  },
  "cells": [
    {
      "cell_type": "code",
      "metadata": {
        "id": "DJs8aGXmkgBQ",
        "colab_type": "code",
        "colab": {}
      },
      "source": [
        "import numpy as np"
      ],
      "execution_count": 0,
      "outputs": []
    },
    {
      "cell_type": "code",
      "metadata": {
        "id": "DyksUwzZkjyQ",
        "colab_type": "code",
        "colab": {
          "base_uri": "https://localhost:8080/",
          "height": 89
        },
        "outputId": "63fc28eb-b0d1-49bd-b110-c608b4f432e1"
      },
      "source": [
        "A = np.array([[1, 2, 3], [2, 5, 6], [6, 7, 4]])\n",
        "print(A)"
      ],
      "execution_count": 23,
      "outputs": [
        {
          "output_type": "stream",
          "text": [
            "[[1 2 3]\n",
            " [2 5 6]\n",
            " [6 7 4]]\n",
            "1\n"
          ],
          "name": "stdout"
        }
      ]
    },
    {
      "cell_type": "code",
      "metadata": {
        "id": "kRU06roMk1RM",
        "colab_type": "code",
        "colab": {
          "base_uri": "https://localhost:8080/",
          "height": 53
        },
        "outputId": "25cd6f1e-3aef-4e16-f274-a499eca5c8cc"
      },
      "source": [
        "\n",
        "b = np.array([1,2, 3])\n",
        "C = A[:,0] - b\n",
        "print(C)\n",
        "A[1,:].min()"
      ],
      "execution_count": 15,
      "outputs": [
        {
          "output_type": "stream",
          "text": [
            "[0 0 3]\n"
          ],
          "name": "stdout"
        },
        {
          "output_type": "execute_result",
          "data": {
            "text/plain": [
              "2"
            ]
          },
          "metadata": {
            "tags": []
          },
          "execution_count": 15
        }
      ]
    },
    {
      "cell_type": "code",
      "metadata": {
        "id": "ToWyFCJoo8Oj",
        "colab_type": "code",
        "colab": {
          "base_uri": "https://localhost:8080/",
          "height": 53
        },
        "outputId": "e19e09fe-e7d8-4e78-b2ea-569a3cf4fc22"
      },
      "source": [
        "row = np.array([0,0,0])\n",
        "for i in range(3):\n",
        "  row[i] = A[i,:].min()\n",
        "print(row )  \n"
      ],
      "execution_count": 22,
      "outputs": [
        {
          "output_type": "stream",
          "text": [
            "[1 2 4]\n"
          ],
          "name": "stdout"
        },
        {
          "output_type": "execute_result",
          "data": {
            "text/plain": [
              "1"
            ]
          },
          "metadata": {
            "tags": []
          },
          "execution_count": 22
        }
      ]
    },
    {
      "cell_type": "code",
      "metadata": {
        "id": "tZ4xxGKtp-JE",
        "colab_type": "code",
        "colab": {
          "base_uri": "https://localhost:8080/",
          "height": 71
        },
        "outputId": "5e683768-7318-4945-ae74-8b459cfc12f6"
      },
      "source": [
        "for i in range(3):\n",
        "  for j in range(3):\n",
        "    A[i, j]=A[i, j] - row[i]\n",
        "  \n",
        "print(A)  "
      ],
      "execution_count": 26,
      "outputs": [
        {
          "output_type": "stream",
          "text": [
            "[[0 1 2]\n",
            " [0 3 4]\n",
            " [2 3 0]]\n"
          ],
          "name": "stdout"
        }
      ]
    },
    {
      "cell_type": "code",
      "metadata": {
        "id": "phViEQnsqv-V",
        "colab_type": "code",
        "colab": {
          "base_uri": "https://localhost:8080/",
          "height": 35
        },
        "outputId": "ce9acc81-b83c-44ea-b982-9d45b09219d2"
      },
      "source": [
        "column = np.array([0,0,0])\n",
        "for i in range(3):\n",
        "  column[i] = A[:,i].min()\n",
        "print(column)"
      ],
      "execution_count": 28,
      "outputs": [
        {
          "output_type": "stream",
          "text": [
            "[0 1 0]\n"
          ],
          "name": "stdout"
        }
      ]
    },
    {
      "cell_type": "code",
      "metadata": {
        "id": "i5avx5x6rVcc",
        "colab_type": "code",
        "colab": {
          "base_uri": "https://localhost:8080/",
          "height": 71
        },
        "outputId": "a0c50bac-acea-432e-bf22-f09c4fc0e7f7"
      },
      "source": [
        "for j in range(3):\n",
        "  for i in range(3):\n",
        "    A[i, j]=A[i, j] - column[j]\n",
        "  \n",
        "print(A) "
      ],
      "execution_count": 30,
      "outputs": [
        {
          "output_type": "stream",
          "text": [
            "[[0 0 2]\n",
            " [0 2 4]\n",
            " [2 2 0]]\n"
          ],
          "name": "stdout"
        }
      ]
    }
  ]
}